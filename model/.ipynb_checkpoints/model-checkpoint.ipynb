version https://git-lfs.github.com/spec/v1
oid sha256:67cd4391f04d3f582887c4cad866f634ca22ffaf0b24e5e8d3ede3a49d6f6367
size 448683
